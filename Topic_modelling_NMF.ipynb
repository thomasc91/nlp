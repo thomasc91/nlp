{
  "nbformat": 4,
  "nbformat_minor": 0,
  "metadata": {
    "colab": {
      "name": "Topic_modelling_NMF.ipynb",
      "provenance": [],
      "collapsed_sections": [],
      "toc_visible": true
    },
    "kernelspec": {
      "name": "python3",
      "display_name": "Python 3"
    }
  },
  "cells": [
    {
      "cell_type": "markdown",
      "metadata": {
        "id": "O0XFrlHwB1Bc"
      },
      "source": [
        "## Imports, Google Drive Authentication and data loading"
      ]
    },
    {
      "cell_type": "code",
      "metadata": {
        "id": "ZtrdEWlq53i8"
      },
      "source": [
        "# GOOGLE COLAB SPECIFIC \r\n",
        "# For importing utility notebooks and data from Google Drive and Google Colab\r\n",
        "googlesheet_filename = 'clickbait_headlines'\r\n",
        "\r\n",
        "#!pip install --upgrade -q gspread\r\n",
        "#!pip install kora\r\n",
        "from kora import drive\r\n",
        "from google.colab import auth\r\n",
        "import gspread\r\n",
        "from oauth2client.client import GoogleCredentials\r\n",
        "\r\n",
        "auth.authenticate_user()\r\n",
        "gc = gspread.authorize(GoogleCredentials.get_application_default())\r\n",
        "worksheet = gc.open(googlesheet_filename).sheet1"
      ],
      "execution_count": null,
      "outputs": []
    },
    {
      "cell_type": "markdown",
      "metadata": {
        "id": "FGQV2ZSOBvRj"
      },
      "source": [
        "## Load and process text documents to dataframe"
      ]
    },
    {
      "cell_type": "code",
      "metadata": {
        "id": "dj7Miv756N3Q"
      },
      "source": [
        "# Adapted from https://github.com/robsalgado/personal_data_science_projects/blob/master/topic_modeling_nmf/nlp_topic_utils.ipynb\r\n",
        "\r\n",
        "from sklearn.feature_extraction.text import ENGLISH_STOP_WORDS\r\n",
        "import string\r\n",
        "import re\r\n",
        "from nltk.stem.snowball import SnowballStemmer\r\n",
        "from nltk.tokenize import TweetTokenizer, RegexpTokenizer\r\n",
        "import nltk\r\n",
        "\r\n",
        "# Contraction map\r\n",
        "c_dict = {\r\n",
        "    \"ain't\": \"am not\",\r\n",
        "    \"aren't\": \"are not\",\r\n",
        "    \"can't\": \"cannot\",\r\n",
        "    \"can't've\": \"cannot have\",\r\n",
        "    \"'cause\": \"because\",\r\n",
        "    \"could've\": \"could have\",\r\n",
        "    \"couldn't\": \"could not\",\r\n",
        "    \"couldn't've\": \"could not have\",\r\n",
        "    \"didn't\": \"did not\",\r\n",
        "    \"doesn't\": \"does not\",\r\n",
        "    \"don't\": \"do not\",\r\n",
        "    \"hadn't\": \"had not\",\r\n",
        "    \"hadn't've\": \"had not have\",\r\n",
        "    \"hasn't\": \"has not\",\r\n",
        "    \"haven't\": \"have not\",\r\n",
        "    \"he'd\": \"he would\",\r\n",
        "    \"he'd've\": \"he would have\",\r\n",
        "    \"he'll\": \"he will\",\r\n",
        "    \"he'll've\": \"he will have\",\r\n",
        "    \"he's\": \"he is\",\r\n",
        "    \"here's\": \"here is\",\r\n",
        "    \"how'd\": \"how did\",\r\n",
        "    \"how'd'y\": \"how do you\",\r\n",
        "    \"how'll\": \"how will\",\r\n",
        "    \"how's\": \"how is\",\r\n",
        "    \"i'd\": \"I would\",\r\n",
        "    \"i'd've\": \"I would have\",\r\n",
        "    \"i'll\": \"I will\",\r\n",
        "    \"i'll've\": \"I will have\",\r\n",
        "    \"i'm\": \"I am\",\r\n",
        "    \"i've\": \"I have\",\r\n",
        "    \"isn't\": \"is not\",\r\n",
        "    \"it'd\": \"it had\",\r\n",
        "    \"it'd've\": \"it would have\",\r\n",
        "    \"it'll\": \"it will\",\r\n",
        "    \"it'll've\": \"it will have\",\r\n",
        "    \"it's\": \"it is\",\r\n",
        "    \"let's\": \"let us\",\r\n",
        "    \"ma'am\": \"madam\",\r\n",
        "    \"mayn't\": \"may not\",\r\n",
        "    \"might've\": \"might have\",\r\n",
        "    \"mightn't\": \"might not\",\r\n",
        "    \"mightn't've\": \"might not have\",\r\n",
        "    \"must've\": \"must have\",\r\n",
        "    \"mustn't\": \"must not\",\r\n",
        "    \"mustn't've\": \"must not have\",\r\n",
        "    \"needn't\": \"need not\",\r\n",
        "    \"needn't've\": \"need not have\",\r\n",
        "    \"o'clock\": \"of the clock\",\r\n",
        "    \"oughtn't\": \"ought not\",\r\n",
        "    \"oughtn't've\": \"ought not have\",\r\n",
        "    \"shan't\": \"shall not\",\r\n",
        "    \"sha'n't\": \"shall not\",\r\n",
        "    \"shan't've\": \"shall not have\",\r\n",
        "    \"she'd\": \"she would\",\r\n",
        "    \"she'd've\": \"she would have\",\r\n",
        "    \"she'll\": \"she will\",\r\n",
        "    \"she'll've\": \"she will have\",\r\n",
        "    \"she's\": \"she is\",\r\n",
        "    \"should've\": \"should have\",\r\n",
        "    \"shouldn't\": \"should not\",\r\n",
        "    \"shouldn't've\": \"should not have\",\r\n",
        "    \"so've\": \"so have\",\r\n",
        "    \"so's\": \"so is\",\r\n",
        "    \"that'd\": \"that would\",\r\n",
        "    \"that'd've\": \"that would have\",\r\n",
        "    \"that's\": \"that is\",\r\n",
        "    \"there'd\": \"there had\",\r\n",
        "    \"there'd've\": \"there would have\",\r\n",
        "    \"there's\": \"there is\",\r\n",
        "    \"they'd\": \"they would\",\r\n",
        "    \"they'd've\": \"they would have\",\r\n",
        "    \"they'll\": \"they will\",\r\n",
        "    \"they'll've\": \"they will have\",\r\n",
        "    \"they're\": \"they are\",\r\n",
        "    \"they've\": \"they have\",\r\n",
        "    \"to've\": \"to have\",\r\n",
        "    \"wasn't\": \"was not\",\r\n",
        "    \"we'd\": \"we had\",\r\n",
        "    \"we'd've\": \"we would have\",\r\n",
        "    \"we'll\": \"we will\",\r\n",
        "    \"we'll've\": \"we will have\",\r\n",
        "    \"we're\": \"we are\",\r\n",
        "    \"we've\": \"we have\",\r\n",
        "    \"weren't\": \"were not\",\r\n",
        "    \"what'll\": \"what will\",\r\n",
        "    \"what'll've\": \"what will have\",\r\n",
        "    \"what're\": \"what are\",\r\n",
        "    \"what's\": \"what is\",\r\n",
        "    \"what've\": \"what have\",\r\n",
        "    \"when's\": \"when is\",\r\n",
        "    \"when've\": \"when have\",\r\n",
        "    \"where'd\": \"where did\",\r\n",
        "    \"where's\": \"where is\",\r\n",
        "    \"where've\": \"where have\",\r\n",
        "    \"who'll\": \"who will\",\r\n",
        "    \"who'll've\": \"who will have\",\r\n",
        "    \"who's\": \"who is\",\r\n",
        "    \"who've\": \"who have\",\r\n",
        "    \"why's\": \"why is\",\r\n",
        "    \"why've\": \"why have\",\r\n",
        "    \"will've\": \"will have\",\r\n",
        "    \"won't\": \"will not\",\r\n",
        "    \"won't've\": \"will not have\",\r\n",
        "    \"would've\": \"would have\",\r\n",
        "    \"wouldn't\": \"would not\",\r\n",
        "    \"wouldn't've\": \"would not have\",\r\n",
        "    \"y'all\": \"you all\",\r\n",
        "    \"y'alls\": \"you alls\",\r\n",
        "    \"y'all'd\": \"you all would\",\r\n",
        "    \"y'all'd've\": \"you all would have\",\r\n",
        "    \"y'all're\": \"you all are\",\r\n",
        "    \"y'all've\": \"you all have\",\r\n",
        "    \"you'd\": \"you had\",\r\n",
        "    \"you'd've\": \"you would have\",\r\n",
        "    \"you'll\": \"you you will\",\r\n",
        "    \"you'll've\": \"you you will have\",\r\n",
        "    \"you're\": \"you are\",\r\n",
        "    \"you've\": \"you have\"\r\n",
        "}\r\n",
        "\r\n",
        "# Compiling the contraction dict\r\n",
        "c_re = re.compile('(%s)' % '|'.join(c_dict.keys()))\r\n",
        "\r\n",
        "# List of stop words\r\n",
        "add_stop = ['said', 'say', '...']\r\n",
        "stop_words = ENGLISH_STOP_WORDS.union(add_stop)\r\n",
        "\r\n",
        "# List of punctuation\r\n",
        "punc = list(set(string.punctuation))\r\n",
        "\r\n",
        "\r\n",
        "# Splits words on white spaces (leaves contractions intact) and splits out\r\n",
        "# trailing punctuation\r\n",
        "def casual_tokenizer(text):\r\n",
        "    tokenizer = TweetTokenizer()\r\n",
        "    tokens = tokenizer.tokenize(text)\r\n",
        "    return tokens\r\n",
        "\r\n",
        "\r\n",
        "def expandContractions(text, c_re=c_re):\r\n",
        "    def replace(match):\r\n",
        "        return c_dict[match.group(0)]\r\n",
        "    return c_re.sub(replace, text)\r\n",
        "\r\n",
        "\r\n",
        "def process_text(text):\r\n",
        "    text = casual_tokenizer(text)\r\n",
        "    text = [each.lower() for each in text]\r\n",
        "    text = [re.sub('[0-9]+', '', each) for each in text]\r\n",
        "    text = [expandContractions(each, c_re=c_re) for each in text]    \r\n",
        "    text = [w for w in text if w not in punc]\r\n",
        "    text = [w for w in text if w not in stop_words]\r\n",
        "    text = [each for each in text if len(each) > 1]\r\n",
        "    text = [each for each in text if ' ' not in each]\r\n",
        "    return text\r\n",
        "\r\n",
        "\r\n",
        "def top_words(topic, n_top_words):\r\n",
        "    return topic.argsort()[:-n_top_words - 1:-1]  \r\n",
        "\r\n",
        "\r\n",
        "def topic_table(model, feature_names, n_top_words):\r\n",
        "    topics = {}\r\n",
        "    for topic_idx, topic in enumerate(model.components_):\r\n",
        "        t = (topic_idx)\r\n",
        "        topics[t] = [feature_names[i] for i in top_words(topic, n_top_words)]\r\n",
        "    return pd.DataFrame(topics)\r\n",
        "\r\n",
        "\r\n",
        "def whitespace_tokenizer(text): \r\n",
        "    pattern = r\"(?u)\\b\\w\\w+\\b\" \r\n",
        "    tokenizer_regex = RegexpTokenizer(pattern)\r\n",
        "    tokens = tokenizer_regex.tokenize(text)\r\n",
        "    return tokens\r\n",
        "\r\n",
        "\r\n",
        "# Funtion to remove duplicate words\r\n",
        "def unique_words(text): \r\n",
        "    ulist = []\r\n",
        "    [ulist.append(x) for x in text if x not in ulist]\r\n",
        "    return ulist\r\n",
        "\r\n",
        "\r\n",
        "def word_count(text):\r\n",
        "    return len(str(text).split(' '))\r\n",
        "\r\n",
        "import numpy as np\r\n",
        "import pandas as pd\r\n",
        "import matplotlib.pyplot as plt\r\n",
        "from collections import Counter\r\n",
        "import seaborn as sns\r\n",
        "\r\n",
        "\"\"\"\r\n",
        "GOOGLE PLATFORM SPECIFIC dataframe load from Google Sheets\r\n",
        "\"\"\"\r\n",
        "rows = worksheet.get_all_values()\r\n",
        "df = pd.DataFrame.from_records(rows)\r\n",
        "df.columns = df.iloc[0]\r\n",
        "df = df[1:]\r\n",
        "\r\n",
        "\"\"\"\r\n",
        "LOCAL FILE dataframe load from CSV\r\n",
        "\r\n",
        "file_path = '<YOUR FILE PATH>'\r\n",
        "file_name = 'documents.csv'\r\n",
        "\r\n",
        "df = pd.read_csv(file_path + file_name)\r\n",
        "\"\"\"\r\n",
        "\r\n",
        "df['processed_text'] = df['body'].apply(process_text)\r\n",
        "df['word_count'] = df['body'].apply(word_count)\r\n",
        "df.head(n=10)"
      ],
      "execution_count": null,
      "outputs": []
    },
    {
      "cell_type": "code",
      "metadata": {
        "colab": {
          "base_uri": "https://localhost:8080/"
        },
        "id": "S_VUSSmmQMBr",
        "outputId": "2941b91e-4782-4531-b094-7112415729fb"
      },
      "source": [
        "import itertools\r\n",
        "\r\n",
        "test = unique_words(df['processed_text'])\r\n",
        "unique_words_list =set(list(itertools.chain.from_iterable(test)))\r\n",
        "len(unique_words_list)"
      ],
      "execution_count": 9,
      "outputs": [
        {
          "output_type": "execute_result",
          "data": {
            "text/plain": [
              "11973"
            ]
          },
          "metadata": {
            "tags": []
          },
          "execution_count": 9
        }
      ]
    },
    {
      "cell_type": "markdown",
      "metadata": {
        "id": "QUv_hajyD4tF"
      },
      "source": [
        "## Corpus summary statistics"
      ]
    },
    {
      "cell_type": "code",
      "metadata": {
        "colab": {
          "base_uri": "https://localhost:8080/",
          "height": 355
        },
        "id": "GiEJe_1qE3Ob",
        "outputId": "2296ba83-e1b7-49c9-c6c0-495dfd71a634"
      },
      "source": [
        "# Plot a hist of the word counts\r\n",
        "fig = plt.figure(figsize=(10,5))\r\n",
        "\r\n",
        "plt.hist(\r\n",
        "    df['word_count'],\r\n",
        "    bins=np.arange(25)-0.5,\r\n",
        "    rwidth=0.9\r\n",
        ")\r\n",
        "\r\n",
        "plt.title('Clickbait headline word count distribution', fontsize=16)\r\n",
        "plt.ylabel('Frequency', fontsize=12)\r\n",
        "plt.xlabel('Word Count', fontsize=12)\r\n",
        "\r\n",
        "plt.show()"
      ],
      "execution_count": 10,
      "outputs": [
        {
          "output_type": "display_data",
          "data": {
            "image/png": "[encoded data removed]",
            "text/plain": [
              "<Figure size 720x360 with 1 Axes>"
            ]
          },
          "metadata": {
            "tags": [],
            "needs_background": "light"
          }
        }
      ]
    },
    {
      "cell_type": "code",
      "metadata": {
        "id": "4e4VoR2LKZJX"
      },
      "source": [
        "# Get the top 20 most common words among all the articles\r\n",
        "p_text = df['processed_text']\r\n",
        "\r\n",
        "# Flaten the list of lists\r\n",
        "p_text = [item for sublist in p_text for item in sublist]\r\n",
        "\r\n",
        "# Top 20\r\n",
        "top_20 = pd.DataFrame(\r\n",
        "    Counter(p_text).most_common(20),\r\n",
        "    columns=['word', 'frequency']\r\n",
        ")"
      ],
      "execution_count": 11,
      "outputs": []
    },
    {
      "cell_type": "code",
      "metadata": {
        "colab": {
          "base_uri": "https://localhost:8080/",
          "height": 506
        },
        "id": "zQIHuqW7LWj5",
        "outputId": "88d0c680-5bad-430c-ef3e-1cfd0f539919"
      },
      "source": [
        "# Plot a bar chart for the top 20 most frequently occuring words\r\n",
        "fig = plt.figure(figsize=(20,7))\r\n",
        "\r\n",
        "g = sns.barplot(\r\n",
        "    x='word',\r\n",
        "    y='frequency',\r\n",
        "    data=top_20,\r\n",
        "    palette='GnBu_d'\r\n",
        ")\r\n",
        "\r\n",
        "g.set_xticklabels(\r\n",
        "    g.get_xticklabels(),\r\n",
        "    rotation=45,\r\n",
        "    fontsize=14\r\n",
        ")\r\n",
        "\r\n",
        "plt.yticks(fontsize=14)\r\n",
        "plt.xlabel('Words', fontsize=14)\r\n",
        "plt.ylabel('Frequency', fontsize=14)\r\n",
        "plt.title('Top 20 Words', fontsize=17)\r\n",
        "\r\n",
        "plt.show()"
      ],
      "execution_count": 12,
      "outputs": [
        {
          "output_type": "display_data",
          "data": {
            "image/png": "[encoded data removed]",
            "text/plain": [
              "<Figure size 1440x504 with 1 Axes>"
            ]
          },
          "metadata": {
            "tags": [],
            "needs_background": "light"
          }
        }
      ]
    },
    {
      "cell_type": "markdown",
      "metadata": {
        "id": "LLZvssE9pKyp"
      },
      "source": [
        "## Generate CSVs for d3.js visualisations"
      ]
    },
    {
      "cell_type": "code",
      "metadata": {
        "id": "mqLcJgNWpIix"
      },
      "source": [
        "df['word_count'].to_csv('word_count.csv', index = False)\r\n",
        "top_20.to_csv('top_20_words.csv', index = False)"
      ],
      "execution_count": null,
      "outputs": []
    },
    {
      "cell_type": "markdown",
      "metadata": {
        "id": "yEQDeYB4pw5O"
      },
      "source": [
        "## Vectorise text wtih tf-idf"
      ]
    },
    {
      "cell_type": "code",
      "metadata": {
        "id": "H3vALEW9U7zu"
      },
      "source": [
        "from sklearn.feature_extraction.text import TfidfVectorizer;\r\n",
        "\r\n",
        "texts = df['processed_text']\r\n",
        "tfidf_vectorizer = TfidfVectorizer(\r\n",
        "    min_df=5,\r\n",
        "    max_df=0.80,\r\n",
        "    max_features=6000,\r\n",
        "    ngram_range=(1, 2),\r\n",
        "    preprocessor=' '.join\r\n",
        ")\r\n",
        "tfidf = tfidf_vectorizer.fit_transform(texts)\r\n",
        "# Save the feature names for later to create topic summaries\r\n",
        "tfidf_fn = tfidf_vectorizer.get_feature_names()\r\n"
      ],
      "execution_count": 17,
      "outputs": []
    },
    {
      "cell_type": "markdown",
      "metadata": {
        "id": "z6ydCFdtp7Gi"
      },
      "source": [
        "## Run NMF, show topics"
      ]
    },
    {
      "cell_type": "code",
      "metadata": {
        "colab": {
          "base_uri": "https://localhost:8080/",
          "height": 288
        },
        "id": "R6tn_cqkp6Zi",
        "outputId": "503b256e-34cd-4f49-a825-e8cc850472e2"
      },
      "source": [
        "from sklearn.decomposition import NMF;\r\n",
        "\r\n",
        "# Run the NMF model\r\n",
        "nmf = NMF(\r\n",
        "    n_components=40,\r\n",
        "    init='nndsvda'    \r\n",
        ").fit(tfidf)\r\n",
        "\r\n",
        "# Getting a df with each topic by document\r\n",
        "docweights = nmf.transform(tfidf_vectorizer.transform(texts))\r\n",
        "\r\n",
        "n_top_words = 6\r\n",
        "\r\n",
        "topic_df = topic_table(\r\n",
        "    nmf,\r\n",
        "    tfidf_fn,\r\n",
        "    n_top_words\r\n",
        ").T\r\n",
        "\r\n",
        "# Cleaning up the top words to create topic summaries\r\n",
        "topic_df['topics'] = topic_df.apply(lambda x: [' '.join(x)], axis=1) # Joining each word into a list\r\n",
        "topic_df['topics'] = topic_df['topics'].str[0]  # Removing the list brackets\r\n",
        "topic_df['topics'] = topic_df['topics'].apply(lambda x: whitespace_tokenizer(x)) # tokenize\r\n",
        "topic_df['topics'] = topic_df['topics'].apply(lambda x: unique_words(x))  # Removing duplicate words\r\n",
        "topic_df['topics'] = topic_df['topics'].apply(lambda x: [' '.join(x)])  # Joining each word into a list\r\n",
        "topic_df['topics'] = topic_df['topics'].str[0]  # Removing the list brackets\r\n",
        "\r\n",
        "topic_df.head(8)"
      ],
      "execution_count": 18,
      "outputs": [
        {
          "output_type": "execute_result",
          "data": {
            "text/html": [
              "<div>\n",
              "<style scoped>\n",
              "    .dataframe tbody tr th:only-of-type {\n",
              "        vertical-align: middle;\n",
              "    }\n",
              "\n",
              "    .dataframe tbody tr th {\n",
              "        vertical-align: top;\n",
              "    }\n",
              "\n",
              "    .dataframe thead th {\n",
              "        text-align: right;\n",
              "    }\n",
              "</style>\n",
              "<table border=\"1\" class=\"dataframe\">\n",
              "  <thead>\n",
              "    <tr style=\"text-align: right;\">\n",
              "      <th></th>\n",
              "      <th>0</th>\n",
              "      <th>1</th>\n",
              "      <th>2</th>\n",
              "      <th>3</th>\n",
              "      <th>4</th>\n",
              "      <th>5</th>\n",
              "      <th>topics</th>\n",
              "    </tr>\n",
              "  </thead>\n",
              "  <tbody>\n",
              "    <tr>\n",
              "      <th>0</th>\n",
              "      <td>zodiac</td>\n",
              "      <td>sign</td>\n",
              "      <td>zodiac sign</td>\n",
              "      <td>based zodiac</td>\n",
              "      <td>based</td>\n",
              "      <td>character based</td>\n",
              "      <td>zodiac sign based character</td>\n",
              "    </tr>\n",
              "    <tr>\n",
              "      <th>1</th>\n",
              "      <td>things</td>\n",
              "      <td>happen</td>\n",
              "      <td>things happen</td>\n",
              "      <td>things people</td>\n",
              "      <td>happened</td>\n",
              "      <td>things happened</td>\n",
              "      <td>things happen people happened</td>\n",
              "    </tr>\n",
              "    <tr>\n",
              "      <th>2</th>\n",
              "      <td>make</td>\n",
              "      <td>feel</td>\n",
              "      <td>laugh</td>\n",
              "      <td>make feel</td>\n",
              "      <td>make laugh</td>\n",
              "      <td>want</td>\n",
              "      <td>make feel laugh want</td>\n",
              "    </tr>\n",
              "    <tr>\n",
              "      <th>3</th>\n",
              "      <td>know</td>\n",
              "      <td>need know</td>\n",
              "      <td>based</td>\n",
              "      <td>actually know</td>\n",
              "      <td>know lyrics</td>\n",
              "      <td>things know</td>\n",
              "      <td>know need based actually lyrics things</td>\n",
              "    </tr>\n",
              "    <tr>\n",
              "      <th>4</th>\n",
              "      <td>people</td>\n",
              "      <td>things people</td>\n",
              "      <td>people try</td>\n",
              "      <td>try</td>\n",
              "      <td>confessions people</td>\n",
              "      <td>people love</td>\n",
              "      <td>people things try confessions love</td>\n",
              "    </tr>\n",
              "    <tr>\n",
              "      <th>5</th>\n",
              "      <td>actually</td>\n",
              "      <td>actually know</td>\n",
              "      <td>love actually</td>\n",
              "      <td>people actually</td>\n",
              "      <td>actually make</td>\n",
              "      <td>actually want</td>\n",
              "      <td>actually know love people make want</td>\n",
              "    </tr>\n",
              "    <tr>\n",
              "      <th>6</th>\n",
              "      <td>times</td>\n",
              "      <td>tumblr</td>\n",
              "      <td>instagram</td>\n",
              "      <td>internet</td>\n",
              "      <td>times tumblr</td>\n",
              "      <td>twitter</td>\n",
              "      <td>times tumblr instagram internet twitter</td>\n",
              "    </tr>\n",
              "    <tr>\n",
              "      <th>7</th>\n",
              "      <td>like</td>\n",
              "      <td>look</td>\n",
              "      <td>look like</td>\n",
              "      <td>looks</td>\n",
              "      <td>looks like</td>\n",
              "      <td>looked</td>\n",
              "      <td>like look looks looked</td>\n",
              "    </tr>\n",
              "  </tbody>\n",
              "</table>\n",
              "</div>"
            ],
            "text/plain": [
              "          0  ...                                   topics\n",
              "0    zodiac  ...              zodiac sign based character\n",
              "1    things  ...            things happen people happened\n",
              "2      make  ...                     make feel laugh want\n",
              "3      know  ...   know need based actually lyrics things\n",
              "4    people  ...       people things try confessions love\n",
              "5  actually  ...      actually know love people make want\n",
              "6     times  ...  times tumblr instagram internet twitter\n",
              "7      like  ...                   like look looks looked\n",
              "\n",
              "[8 rows x 7 columns]"
            ]
          },
          "metadata": {
            "tags": []
          },
          "execution_count": 18
        }
      ]
    },
    {
      "cell_type": "markdown",
      "metadata": {
        "id": "y5LEq7-VwYZH"
      },
      "source": [
        "## Run NMF with gensim to get coherence scores"
      ]
    },
    {
      "cell_type": "code",
      "metadata": {
        "id": "_ClAG9-slqrI"
      },
      "source": [
        "!pip install -U gensim\r\n",
        "\r\n",
        "from gensim.models.coherencemodel import CoherenceModel\r\n",
        "from gensim.corpora.dictionary import Dictionary\r\n",
        "from gensim.models.nmf import Nmf\r\n",
        "\r\n",
        "# Create a dictionary\r\n",
        "# In gensim a dictionary is a mapping between words and their integer id\r\n",
        "dictionary = Dictionary(texts)\r\n",
        "\r\n",
        "# Filter out extremes to limit the number of features\r\n",
        "dictionary.filter_extremes(\r\n",
        "    no_below=3,\r\n",
        "    no_above=0.80,\r\n",
        "    keep_n=6000\r\n",
        ")\r\n",
        "\r\n",
        "# Create the bag-of-words format (list of (token_id, token_count))\r\n",
        "corpus = [dictionary.doc2bow(text) for text in texts]\r\n",
        "\r\n",
        "# Create a list of the topic numbers we want to try\r\n",
        "topic_nums = list(np.arange(5, 100 + 1, 5))\r\n",
        "\r\n",
        "# Run the nmf model and calculate the coherence score\r\n",
        "# for each number of topics\r\n",
        "coherence_scores = []\r\n",
        "\r\n",
        "for num in topic_nums:\r\n",
        "    nmf = Nmf(\r\n",
        "        corpus=corpus,\r\n",
        "        num_topics=num,\r\n",
        "        id2word=dictionary,\r\n",
        "        chunksize=2000,\r\n",
        "        passes=5,\r\n",
        "        kappa=.1,\r\n",
        "        minimum_probability=0.01,\r\n",
        "        w_max_iter=300,\r\n",
        "        w_stop_condition=0.0001,\r\n",
        "        h_max_iter=100,\r\n",
        "        h_stop_condition=0.001,\r\n",
        "        eval_every=10,\r\n",
        "        normalize=True,\r\n",
        "        random_state=42\r\n",
        "    )\r\n",
        "    \r\n",
        "    # Run the coherence model to get the score\r\n",
        "    cm = CoherenceModel(\r\n",
        "        model=nmf,\r\n",
        "        texts=texts,\r\n",
        "        dictionary=dictionary,\r\n",
        "        coherence='c_v'\r\n",
        "    )\r\n",
        "    \r\n",
        "    coherence_scores.append(round(cm.get_coherence(), 5))\r\n"
      ],
      "execution_count": null,
      "outputs": []
    },
    {
      "cell_type": "code",
      "metadata": {
        "id": "J5seL4kmnHGZ"
      },
      "source": [
        "from operator import itemgetter\r\n",
        "\r\n",
        "# Get the number of topics with the highest coherence score\r\n",
        "scores = list(zip(topic_nums, coherence_scores))\r\n",
        "best_num_topics = sorted(scores, key=itemgetter(1), reverse=True)[0][0]\r\n",
        "\r\n",
        "print(best_num_topics)"
      ],
      "execution_count": null,
      "outputs": []
    },
    {
      "cell_type": "code",
      "metadata": {
        "id": "1-veo37vnR8m"
      },
      "source": [
        "# Plot the results\r\n",
        "fig = plt.figure(figsize=(15, 7))\r\n",
        "\r\n",
        "plt.plot(\r\n",
        "    topic_nums,\r\n",
        "    coherence_scores,\r\n",
        "    linewidth=3,\r\n",
        "    color='#4287f5'\r\n",
        ")\r\n",
        "\r\n",
        "plt.xlabel(\"Topic Num\", fontsize=14)\r\n",
        "plt.ylabel(\"Coherence Score\", fontsize=14)\r\n",
        "plt.title('Coherence Score by Topic Number - Best Number of Topics: {}'.format(best_num_topics), fontsize=18)\r\n",
        "plt.xticks(np.arange(5, max(topic_nums) + 1, 5), fontsize=12)\r\n",
        "plt.yticks(fontsize=12)\r\n",
        "\r\n",
        "file_name = 'c_score'\r\n",
        "\r\n",
        "plt.show()"
      ],
      "execution_count": null,
      "outputs": []
    },
    {
      "cell_type": "markdown",
      "metadata": {
        "id": "kd50RRztqPwo"
      },
      "source": [
        "## Join topics to documents"
      ]
    },
    {
      "cell_type": "code",
      "metadata": {
        "id": "zfWlQ1KkmQTC"
      },
      "source": [
        "# Create a df with only the created topics and topic num\r\n",
        "topic_df = topic_df['topics'].reset_index()\r\n",
        "topic_df.columns = ['topic_num', 'topics']\r\n",
        "\r\n",
        "topic_df.head()\r\n",
        "# Creating a temp df with the url and topic num to join on\r\n",
        "body = df['body'].tolist()\r\n",
        "\r\n",
        "df_temp = pd.DataFrame({\r\n",
        "    'body': body,\r\n",
        "    'topic_num': docweights.argmax(axis=1)\r\n",
        "})\r\n",
        "\r\n",
        "# Merging to get the topic num with url\r\n",
        "merged_topic = df_temp.merge(\r\n",
        "    topic_df,\r\n",
        "    on='topic_num',\r\n",
        "    how='left'\r\n",
        ")\r\n",
        "\r\n",
        "# Merging with the original df\r\n",
        "df_topics = pd.merge(\r\n",
        "    df,\r\n",
        "    merged_topic,\r\n",
        "    on='body',\r\n",
        "    how='left'\r\n",
        ")\r\n",
        "\r\n",
        "df_topics = df_topics.drop(\r\n",
        "    'processed_text',\r\n",
        "    axis=1\r\n",
        ")\r\n",
        "pd.set_option('display.max_colwidth', None)\r\n",
        "\r\n",
        "df_topics[(df_topics[\"topic_num\"] == 15) | \r\n",
        "           (df_topics[\"topic_num\"] == 38) | \r\n",
        "           (df_topics[\"topic_num\"] == 29) | \r\n",
        "           (df_topics[\"topic_num\"] == 4) | \r\n",
        "           (df_topics[\"topic_num\"] == 24) | \r\n",
        "           (df_topics[\"topic_num\"] == 0)  \r\n",
        "                    \r\n",
        "           ].tail(40)"
      ],
      "execution_count": null,
      "outputs": []
    },
    {
      "cell_type": "markdown",
      "metadata": {
        "id": "2a41tkmowRYl"
      },
      "source": [
        "## Save topic counts to CSV for d3.js visualisations"
      ]
    },
    {
      "cell_type": "code",
      "metadata": {
        "id": "XfEM_IBkvgRr"
      },
      "source": [
        "df_topic_count = df_topics['topics'].value_counts().to_frame()\r\n",
        "df_topic_count = df_topic_count.reset_index()\r\n",
        "df_topic_count = df_topic_count.rename(columns={\"index\": \"topic\", \"topics\": \"headline_count\"})\r\n",
        "df_topic_count.to_csv(\"topic_count.csv\", index = False)"
      ],
      "execution_count": null,
      "outputs": []
    }
  ]
}